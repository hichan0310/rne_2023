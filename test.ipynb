{
 "cells": [
  {
   "cell_type": "code",
   "execution_count": 38,
   "metadata": {
    "collapsed": true
   },
   "outputs": [],
   "source": [
    "import numpy as np\n",
    "import math\n",
    "from math import pi, sin, cos\n",
    "\n",
    "size = 6\n",
    "conv_size = 2 * size + 1\n",
    "different_range = pi*4/3\n",
    "movement=10\n",
    "result = []\n",
    "grad=pi/6"
   ]
  },
  {
   "cell_type": "code",
   "execution_count": 39,
   "outputs": [],
   "source": [
    "conv = np.array([list(map(lambda x: x if abs(x) <= different_range / 2 else 0,\n",
    "                              list(map(lambda x: x if x < pi else x - 2 * pi,\n",
    "                                       [(0 if x - size == 0 and y - size == 0\n",
    "                                         else (\n",
    "                                                  -pi / 2 if x - size == 0 and y - size > 0\n",
    "                                                  else (\n",
    "                                                      pi / 2 if x - size == 0 and y - size < 0\n",
    "                                                      else (-math.atan(\n",
    "                                                          (y - size) / (\n",
    "                                                                  x - size)) if x - size > 0\n",
    "                                                            else pi - math.atan(\n",
    "                                                          (y - size) / (\n",
    "                                                                  x - size)))))\n",
    "                                              - grad + 4 * pi) % (2 * pi)\n",
    "                                        for x in range(conv_size)])))) for y in\n",
    "                     range(conv_size)])"
   ],
   "metadata": {
    "collapsed": false
   }
  },
  {
   "cell_type": "code",
   "execution_count": 40,
   "outputs": [],
   "source": [
    "conv=(conv*180/pi).astype('int')"
   ],
   "metadata": {
    "collapsed": false
   }
  },
  {
   "cell_type": "code",
   "execution_count": 41,
   "outputs": [
    {
     "name": "stdout",
     "output_type": "stream",
     "text": [
      "[[ 104   99   93   86   78   69   60   50   41   33   26   20   14]\n",
      " [ 110  104   98   90   81   71   60   48   38   29   21   14    9]\n",
      " [ 116  111  104   96   86   74   60   45   33   23   14    8    3]\n",
      " [   0  119  113  104   93   78   60   41   26   14    6    0   -3]\n",
      " [   0    0    0  116  104   86   60   33   14    3   -3   -8  -11]\n",
      " [   0    0    0    0    0  104   60   14   -3  -11  -15  -18  -20]\n",
      " [   0    0    0    0    0    0    0  -29  -29  -29  -29  -29  -29]\n",
      " [   0    0    0    0    0    0 -119  -75  -56  -48  -44  -41  -39]\n",
      " [   0    0    0    0    0    0 -119  -93  -75  -63  -56  -51  -48]\n",
      " [   0    0    0    0    0    0 -119 -101  -86  -75  -66  -60  -56]\n",
      " [   0    0    0    0    0    0 -119 -105  -93  -83  -75  -68  -63]\n",
      " [   0    0    0    0    0    0 -119 -108  -98  -89  -81  -75  -69]\n",
      " [   0    0    0    0    0    0 -119 -110 -101  -93  -86  -80  -75]]\n"
     ]
    }
   ],
   "source": [
    "print(conv)"
   ],
   "metadata": {
    "collapsed": false
   }
  },
  {
   "cell_type": "code",
   "execution_count": null,
   "outputs": [],
   "source": [],
   "metadata": {
    "collapsed": false
   }
  }
 ],
 "metadata": {
  "kernelspec": {
   "display_name": "Python 3",
   "language": "python",
   "name": "python3"
  },
  "language_info": {
   "codemirror_mode": {
    "name": "ipython",
    "version": 2
   },
   "file_extension": ".py",
   "mimetype": "text/x-python",
   "name": "python",
   "nbconvert_exporter": "python",
   "pygments_lexer": "ipython2",
   "version": "2.7.6"
  }
 },
 "nbformat": 4,
 "nbformat_minor": 0
}
